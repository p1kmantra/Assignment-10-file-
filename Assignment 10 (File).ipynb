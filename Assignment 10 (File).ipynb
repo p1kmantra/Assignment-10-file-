{
 "cells": [
  {
   "cell_type": "markdown",
   "id": "55440648-29b3-463d-b86c-0839e10eb3f4",
   "metadata": {},
   "source": [
    "Q.1.Which function is used to open a file ?what are the different modes of opening a file ?Explain each mode of file opening."
   ]
  },
  {
   "cell_type": "markdown",
   "id": "e1fa48d2-ef6a-4a2b-ab7b-889bbd135eca",
   "metadata": {},
   "source": [
    "Ans. In Python 'open()' function is used to open a file .It takes a filename as the first argument and return a file object ,which can be used to read from or write to the file."
   ]
  },
  {
   "cell_type": "markdown",
   "id": "6f0cbb2a-b371-4838-acfe-63d98a8c4251",
   "metadata": {},
   "source": [
    "Here, the different modes of opening a file"
   ]
  },
  {
   "cell_type": "markdown",
   "id": "e288dec9-1b64-49c8-8c46-17c1c655cfe4",
   "metadata": {},
   "source": [
    "1.'r' (Read mode) this is the default mode .It opens the file for reading .If the file does not exist ,it raises 'file not found error'"
   ]
  },
  {
   "cell_type": "markdown",
   "id": "a7ab556f-6ac6-4aae-a9cc-5182ea9f1145",
   "metadata": {},
   "source": [
    "2.'w' (write mode) it opens tyhe file for writing .If the file already exists , a new file will be created .It also truncate our data in the existing file."
   ]
  },
  {
   "cell_type": "markdown",
   "id": "99d7e0ad-86f4-458f-a1be-5ce6cf6ee191",
   "metadata": {},
   "source": [
    "3.'a' (Append mode): it opens the file for appending new data at the end .If the file does't exists ,a new file will be created .The existing contents of the file will not be truncated ."
   ]
  },
  {
   "cell_type": "markdown",
   "id": "e9adcb63-859b-45ee-ba86-15004f033579",
   "metadata": {},
   "source": [
    "4.'b' (Binary mode) :this mode is used in conjuction with other modes ,such as 'r' or 'w' to specify that the file should be treated as binary rather than text.For exaple 'rb' opens the file in binary reading mode ,while 'wb' opens the file in binary writing mode."
   ]
  },
  {
   "cell_type": "markdown",
   "id": "ed9c9312-161d-43d8-b30c-db25dc644ac7",
   "metadata": {},
   "source": [
    "5.'t' (text mode) :this is the default mode and can be used in cunjuction with other modes to specify that the file should be treated as text. For example 'rt' opoens the file in text reading mode, while ''wt' opens the file in text writing  mode."
   ]
  },
  {
   "cell_type": "markdown",
   "id": "d2747116-d94f-4b09-81af-8b9d5efcdf49",
   "metadata": {},
   "source": [
    "here is the types of function trough which we can open a file"
   ]
  },
  {
   "cell_type": "markdown",
   "id": "e86db0fb-b75e-4c8f-a651-0528203882b6",
   "metadata": {},
   "source": [
    "f=open(\"test.txt\",'w') and the another function is "
   ]
  },
  {
   "cell_type": "markdown",
   "id": "c04d8684-a0fc-4f75-b0c8-8ca4afcb2cf1",
   "metadata": {},
   "source": [
    "with open(\"test.txt\",'w') as f:"
   ]
  },
  {
   "cell_type": "code",
   "execution_count": null,
   "id": "ae3ca124-b7b2-4450-bad5-606596d978e4",
   "metadata": {},
   "outputs": [],
   "source": []
  },
  {
   "cell_type": "markdown",
   "id": "72c4ffb5-67a2-4a37-a32f-e9c56e334e6a",
   "metadata": {},
   "source": [
    "Q.2.Why close() function is used ? why is it important to close a file?"
   ]
  },
  {
   "cell_type": "markdown",
   "id": "0c85098c-f296-4be2-af65-1e7c3b24a856",
   "metadata": {},
   "source": [
    "Ans. Close() function is used to close a file .It is important to close a file after you have finished reading or writing the content of the file .Some important reason thats why close() function is neccessary tgo use."
   ]
  },
  {
   "cell_type": "markdown",
   "id": "56ac55e0-40ae-45b9-92d0-ea1f6b276373",
   "metadata": {},
   "source": [
    "(a).Flushing the buffer: Whemn we write a data in file ,it is ofen buffered in memory before it is actually written to the disk.Closing the file ensures that the buffered data is written to the file before it is closed .If we don't close the file ,some or all of data may remain in the buffer and not be written in the file."
   ]
  },
  {
   "cell_type": "markdown",
   "id": "2f22a741-539f-496e-ad99-78580bd67963",
   "metadata": {},
   "source": [
    "(b).Avoiding data curruption: If we open a file for written and we don't close it ,the file may become currupted ,if we try to open it again for writing .Closing the file ,ensures that the file is properly finallzed and can be safely accessed by others programs or part of our code."
   ]
  },
  {
   "cell_type": "markdown",
   "id": "b0d574c0-4ca8-4ea7-bed8-1d70000c7566",
   "metadata": {},
   "source": [
    "(c).Good programming practice: Closing files after we are done with them is considered good programming practice .It helps in maintaning code clarity, readability and reduces the risk of resource leaks.It also indicates that you are explicity done working with the file, making our code more understandable for othrs who may read or maintain it."
   ]
  },
  {
   "cell_type": "markdown",
   "id": "8d313b6e-cb97-455e-a538-215aaa0b5153",
   "metadata": {},
   "source": [
    "This way, we have more control over our code .It ensures that our code behaves as as expected even in more compex scenarios. "
   ]
  },
  {
   "cell_type": "code",
   "execution_count": null,
   "id": "b121d71d-ed8d-43ce-ac34-694db6a2c6c8",
   "metadata": {},
   "outputs": [],
   "source": []
  },
  {
   "cell_type": "markdown",
   "id": "e718f827-269a-4011-b653-e3331a88b0ec",
   "metadata": {},
   "source": [
    "Q.3.Write a Python program to create a text file .Write \"I want to become a Data Scientist\" in that file .Then close the file .OPen this file and read the content of the file."
   ]
  },
  {
   "cell_type": "code",
   "execution_count": 16,
   "id": "91709888-4bdb-4447-bbad-b8ef49870254",
   "metadata": {},
   "outputs": [],
   "source": [
    "with open(\"test.txt\",\"w\") as f:\n",
    "    f.write(\"I want to become a Data Scientist\")\n",
    "    f.close()"
   ]
  },
  {
   "cell_type": "code",
   "execution_count": 17,
   "id": "813bf990-bd58-4e28-87a5-c507fc427044",
   "metadata": {},
   "outputs": [],
   "source": [
    "f=open(\"test.txt\",\"r\")"
   ]
  },
  {
   "cell_type": "code",
   "execution_count": 18,
   "id": "3e682f30-9567-4fdd-8eb1-7776f9feaec8",
   "metadata": {},
   "outputs": [
    {
     "data": {
      "text/plain": [
       "'I want to become a Data Scientist'"
      ]
     },
     "execution_count": 18,
     "metadata": {},
     "output_type": "execute_result"
    }
   ],
   "source": [
    "f.read()"
   ]
  },
  {
   "cell_type": "code",
   "execution_count": 21,
   "id": "06a47b0f-9965-4f9b-905c-588c9daed5d2",
   "metadata": {},
   "outputs": [
    {
     "name": "stdout",
     "output_type": "stream",
     "text": [
      "I want to become a Data Scientist\n"
     ]
    }
   ],
   "source": [
    "content=open(\"test.txt\",\"r\")\n",
    "for i in content:\n",
    "    print(i)"
   ]
  },
  {
   "cell_type": "code",
   "execution_count": null,
   "id": "f9c6359a-26f3-427b-ae48-702f7bebdece",
   "metadata": {},
   "outputs": [],
   "source": []
  },
  {
   "cell_type": "markdown",
   "id": "e309edec-1e21-4e0e-95e5-7a643c5948ff",
   "metadata": {},
   "source": [
    "Q.4.Explain the following Python code : read(),readline and readlines()."
   ]
  },
  {
   "cell_type": "markdown",
   "id": "f33376d3-2ede-4d65-b008-5855251353f8",
   "metadata": {},
   "source": [
    "Ans. In Python read(),readline() and readlines() are methods to read data from a file."
   ]
  },
  {
   "cell_type": "markdown",
   "id": "a8cb52eb-895c-402a-9d30-934784a68a6d",
   "metadata": {},
   "source": [
    "a).read(): read() is a method, used to read intire data from a file as a single string.When clled witout any arguments ,it reads the entire file.for eg."
   ]
  },
  {
   "cell_type": "code",
   "execution_count": null,
   "id": "b48a30b3-4735-48cd-ba86-bb3eb5d25bde",
   "metadata": {},
   "outputs": [],
   "source": [
    "file=open(\"book.txt\",\"r\")\n",
    "saga=file.read()\n",
    "print(saga)\n",
    "file.close()"
   ]
  },
  {
   "cell_type": "markdown",
   "id": "9aeb0d00-0941-4de1-b2e2-893e1302b98e",
   "metadata": {},
   "source": [
    "in this example ,the read() method file reads the entire contents of the file \"book.txt\".Finally the file is closed ,using the close method "
   ]
  },
  {
   "cell_type": "markdown",
   "id": "8e7c0b0d-0043-463c-b8d4-1b23dbfedc3e",
   "metadata": {},
   "source": [
    "b).'readline()':readline() is a method is used to read a single line from a file .Each time it is called ,it reads the next line in the file .for eg."
   ]
  },
  {
   "cell_type": "code",
   "execution_count": null,
   "id": "1c0a320a-8b6b-4df6-8062-f090894643ea",
   "metadata": {},
   "outputs": [],
   "source": [
    "file=open(\"book.txt\",\"r\")\n",
    "line1=file.readline()\n",
    "line2=file.readline()\n",
    "print(line1)\n",
    "print(line2)\n",
    "file.close()"
   ]
  },
  {
   "cell_type": "markdown",
   "id": "1a1acf85-b5bf-43d0-9320-2d4c2dcc22f3",
   "metadata": {},
   "source": [
    "in this example the readline method is called twice to read the first two lines of the file \"book.txt\" .the lines are then printed and closed ."
   ]
  },
  {
   "cell_type": "markdown",
   "id": "61bb93f3-bd0a-4cf4-a828-84d5f0ccb669",
   "metadata": {},
   "source": [
    "c).readlines(): readlines() is a method ,used to read all the lines from a file and returns them as list of string .Each string in the list represents a line in the file.For eg. "
   ]
  },
  {
   "cell_type": "code",
   "execution_count": null,
   "id": "0034b8a8-be06-4f51-8034-c9f5bc40b828",
   "metadata": {},
   "outputs": [],
   "source": [
    "file=open(\"book.txt\",\"r\")\n",
    "lines=file,readlines()\n",
    "for i in lines:\n",
    "    print(i)\n",
    "file.close()"
   ]
  },
  {
   "cell_type": "markdown",
   "id": "c1a54954-6531-448a-a0e6-9bf59730ddbd",
   "metadata": {},
   "source": [
    "In this example ,the readlines reads all the lines from the file \"book.txt\"."
   ]
  },
  {
   "cell_type": "code",
   "execution_count": null,
   "id": "11b143bc-f568-48ba-bda8-081e16efcfb9",
   "metadata": {},
   "outputs": [],
   "source": []
  },
  {
   "cell_type": "markdown",
   "id": "53c908a9-129b-41f8-8ae0-f153e9b1221d",
   "metadata": {},
   "source": [
    "Q.5.Explain why with statement is used with open().What is the advantage of using with statement and open together ?"
   ]
  },
  {
   "cell_type": "markdown",
   "id": "6e05c4a6-171b-4b9a-b009-4ced6151cb1f",
   "metadata": {},
   "source": [
    "Ans. The with statement in Python is used in conjunction with the open () function to provide a convenient and safe way to handle file I/O operations .When using with and open () together ,it ensures that the file is automatically closed after the operation are performed ,regardless of whether an exception occurs or not."
   ]
  },
  {
   "cell_type": "code",
   "execution_count": null,
   "id": "a4b211a3-aea7-4c37-aeeb-62d440833be9",
   "metadata": {},
   "outputs": [],
   "source": [
    "with open(\"book.txt\",\"r\") as file:\n",
    "    content=file.read()"
   ]
  },
  {
   "cell_type": "code",
   "execution_count": null,
   "id": "d63640cb-2e8f-4fd7-b703-0a0a01911bae",
   "metadata": {},
   "outputs": [],
   "source": []
  },
  {
   "cell_type": "markdown",
   "id": "efcf218c-3420-4cb8-8570-c9fa6e8b76b0",
   "metadata": {},
   "source": [
    "Q.6.Explain the write() and writelines() functions .Give a suitable example."
   ]
  },
  {
   "cell_type": "markdown",
   "id": "1a5ef0a0-0fef-4c71-8267-7c016c0cdb90",
   "metadata": {},
   "source": [
    "Ans.In Python ,the 'write()' and 'writelines()' functions are used to write data to a file.They are commanly used when performming file I/O operation for writing and appending content to a file "
   ]
  },
  {
   "cell_type": "markdown",
   "id": "5073da63-2f4e-4b3f-b870-039b9f9cdd3e",
   "metadata": {},
   "source": [
    "write() function is used to write a single string of data to a file .It takes a string as an argument and writes that sring to the file .If the file does't exist, it creat a new file and if file is already exists ,it overwrites its contentswith the new data. For example.  "
   ]
  },
  {
   "cell_type": "code",
   "execution_count": null,
   "id": "8989ee35-922f-4d1d-a254-ca0d24577a65",
   "metadata": {},
   "outputs": [],
   "source": [
    "file=open(\"book.txt\",\"w\")\n",
    "file.write(\"It will be awesome to be a data scintist \")\n",
    "file.close()"
   ]
  },
  {
   "cell_type": "markdown",
   "id": "4035c17a-86a1-4ea8-a685-01ea1f2aaa4b",
   "metadata": {},
   "source": [
    "the write () function writes the string \"It will be awesome to be a data scintist\" to the file \"book.txt\" .If the file already exists ,it replaces its contents with the new string. "
   ]
  },
  {
   "cell_type": "markdown",
   "id": "d29a1d93-ba75-4dae-8a91-2242d7a94fb7",
   "metadata": {},
   "source": [
    "writelines(): writelines() is the function ,used to write a list of string to a file .It takes a list of strings as an argument and writes each string to a new line in the  .for exaple "
   ]
  },
  {
   "cell_type": "code",
   "execution_count": null,
   "id": "cb673d51-6199-438d-a497-29abbac5ecd2",
   "metadata": {},
   "outputs": [],
   "source": [
    "lines=[\"line 1\",\"line 2\",\"line 3\"]\n",
    "file=open(\"book.txt\",\"w\")\n",
    "file.writelines(lines)\n",
    "file.close()"
   ]
  },
  {
   "cell_type": "markdown",
   "id": "bbdf9a2d-4e6e-4b85-a112-e8dc757a3fb5",
   "metadata": {},
   "source": [
    "Writelines functions writes each line from the lines list to the file \"book.txt\" .Each string is written to tyhe new line in the file due to the presence of the newline  "
   ]
  }
 ],
 "metadata": {
  "kernelspec": {
   "display_name": "Python 3 (ipykernel)",
   "language": "python",
   "name": "python3"
  },
  "language_info": {
   "codemirror_mode": {
    "name": "ipython",
    "version": 3
   },
   "file_extension": ".py",
   "mimetype": "text/x-python",
   "name": "python",
   "nbconvert_exporter": "python",
   "pygments_lexer": "ipython3",
   "version": "3.10.8"
  }
 },
 "nbformat": 4,
 "nbformat_minor": 5
}
